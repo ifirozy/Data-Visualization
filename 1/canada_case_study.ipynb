{
 "cells": [
  {
   "cell_type": "markdown",
   "metadata": {},
   "source": [
    "# STATISTIC OF CANDA \n",
    "### By IFFAT\n",
    "### Date: 2021-09-15"
   ]
  },
  {
   "cell_type": "markdown",
   "metadata": {},
   "source": [
    "------------------"
   ]
  },
  {
   "cell_type": "markdown",
   "metadata": {},
   "source": [
    "#### Import needed library"
   ]
  },
  {
   "cell_type": "code",
   "execution_count": 1,
   "metadata": {},
   "outputs": [],
   "source": [
    "import pandas as pd"
   ]
  },
  {
   "cell_type": "markdown",
   "metadata": {},
   "source": [
    "#### Loading the database from csv file"
   ]
  },
  {
   "cell_type": "code",
   "execution_count": 2,
   "metadata": {},
   "outputs": [],
   "source": [
    "db = pd.read_csv(\"students.csv\")"
   ]
  },
  {
   "cell_type": "markdown",
   "metadata": {},
   "source": [
    "#### Info about the imported databased"
   ]
  },
  {
   "cell_type": "code",
   "execution_count": 3,
   "metadata": {},
   "outputs": [
    {
     "name": "stdout",
     "output_type": "stream",
     "text": [
      "<class 'pandas.core.frame.DataFrame'>\n",
      "RangeIndex: 6221 entries, 0 to 6220\n",
      "Data columns (total 9 columns):\n",
      " #   Column                                                      Non-Null Count  Dtype \n",
      "---  ------                                                      --------------  ----- \n",
      " 0   REF_DATE                                                    6221 non-null   object\n",
      " 1   GEO                                                         6221 non-null   object\n",
      " 2   Institution type                                            6221 non-null   object\n",
      " 3   Registration status                                         6221 non-null   object\n",
      " 4   International Standard Classification of Education (ISCED)  6221 non-null   object\n",
      " 5   Field of study                                              6221 non-null   object\n",
      " 6   Gender                                                      6221 non-null   object\n",
      " 7   Status of student in Canada                                 6221 non-null   object\n",
      " 8   VALUE                                                       6221 non-null   int64 \n",
      "dtypes: int64(1), object(8)\n",
      "memory usage: 437.5+ KB\n"
     ]
    }
   ],
   "source": [
    "db.info()"
   ]
  },
  {
   "cell_type": "markdown",
   "metadata": {},
   "source": [
    "### ANSWERS"
   ]
  },
  {
   "cell_type": "markdown",
   "metadata": {},
   "source": [
    "#### Answer no 1"
   ]
  },
  {
   "cell_type": "code",
   "execution_count": 5,
   "metadata": {},
   "outputs": [
    {
     "data": {
      "text/plain": [
       "Business, management and public administration [5]                652\n",
       "Health and related fields [10]                                    612\n",
       "Humanities [3]                                                    607\n",
       "Architecture, engineering and related technologies [8]            556\n",
       "Social and behavioural sciences and law [4]                       538\n",
       "Mathematics, computer and information sciences [7]                451\n",
       "Education [1]                                                     429\n",
       "Other  [12]                                                       417\n",
       "Physical and life sciences and technologies [6]                   407\n",
       "Agriculture, natural resources and conservation [9]               395\n",
       "Visual and performing arts and communications technologies [2]    393\n",
       "Personal, protective and transportation services [11]             341\n",
       "Unclassified                                                      268\n",
       "Personal improvement and leisure [0]                              155\n",
       "Name: Field of study, dtype: int64"
      ]
     },
     "execution_count": 5,
     "metadata": {},
     "output_type": "execute_result"
    }
   ],
   "source": [
    "##1 \n",
    "answer_1 = db[\"Field of study\"].value_counts()\n",
    "answer_1"
   ]
  },
  {
   "cell_type": "markdown",
   "metadata": {},
   "source": [
    "#### Answer no 2"
   ]
  },
  {
   "cell_type": "code",
   "execution_count": 7,
   "metadata": {},
   "outputs": [
    {
     "data": {
      "text/plain": [
       "[\"Bachelor's or equivalent\",\n",
       " \"Master's or equivalent\",\n",
       " 'Doctoral or equivalent',\n",
       " 'Post-secondary non-tertiary education',\n",
       " 'Short-cycle tertiary education',\n",
       " 'Not applicable, International Standard Classification of Education (ISCED)',\n",
       " 'Upper secondary education']"
      ]
     },
     "execution_count": 7,
     "metadata": {},
     "output_type": "execute_result"
    }
   ],
   "source": [
    "##2\n",
    "answer_2 = list(db[\"International Standard Classification of Education (ISCED)\"].unique())\n",
    "answer_2"
   ]
  },
  {
   "cell_type": "markdown",
   "metadata": {},
   "source": [
    "#### Answer no 3"
   ]
  },
  {
   "cell_type": "code",
   "execution_count": 8,
   "metadata": {},
   "outputs": [
    {
     "data": {
      "text/plain": [
       "University    3567\n",
       "College       2654\n",
       "Name: Institution type, dtype: int64"
      ]
     },
     "execution_count": 8,
     "metadata": {},
     "output_type": "execute_result"
    }
   ],
   "source": [
    "##3\n",
    "answer_3 = db[\"Institution type\"].value_counts()\n",
    "answer_3"
   ]
  },
  {
   "cell_type": "markdown",
   "metadata": {},
   "source": [
    "#### Answer no 4"
   ]
  },
  {
   "cell_type": "code",
   "execution_count": 9,
   "metadata": {},
   "outputs": [
    {
     "data": {
      "text/plain": [
       "24777"
      ]
     },
     "execution_count": 9,
     "metadata": {},
     "output_type": "execute_result"
    }
   ],
   "source": [
    "##4 total number of enrolled studet\n",
    "answer_4 = db[(db['GEO'] == 'Newfoundland and Labrador')]['VALUE'].sum()\n",
    "answer_4"
   ]
  },
  {
   "cell_type": "markdown",
   "metadata": {},
   "source": [
    "#### Answer no 5"
   ]
  },
  {
   "cell_type": "code",
   "execution_count": 10,
   "metadata": {},
   "outputs": [
    {
     "data": {
      "text/plain": [
       "Male gender      113\n",
       "Female gender    108\n",
       "Name: Gender, dtype: int64"
      ]
     },
     "execution_count": 10,
     "metadata": {},
     "output_type": "execute_result"
    }
   ],
   "source": [
    "#5\n",
    "db_gender = db[(db['GEO']=='Newfoundland and Labrador') & (db['Institution type'] == 'University') ]['Gender']\n",
    "answer_5 = db_gender.value_counts()[['Male gender','Female gender']]\n",
    "answer_5"
   ]
  },
  {
   "cell_type": "code",
   "execution_count": null,
   "metadata": {},
   "outputs": [],
   "source": []
  }
 ],
 "metadata": {
  "kernelspec": {
   "display_name": "Python 3",
   "language": "python",
   "name": "python3"
  },
  "language_info": {
   "codemirror_mode": {
    "name": "ipython",
    "version": 3
   },
   "file_extension": ".py",
   "mimetype": "text/x-python",
   "name": "python",
   "nbconvert_exporter": "python",
   "pygments_lexer": "ipython3",
   "version": "3.8.8"
  }
 },
 "nbformat": 4,
 "nbformat_minor": 4
}
